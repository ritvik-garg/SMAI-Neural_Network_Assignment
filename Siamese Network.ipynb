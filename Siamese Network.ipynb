{
 "cells": [
  {
   "cell_type": "code",
   "execution_count": null,
   "metadata": {
    "id": "6sbxYbJwn9HC"
   },
   "outputs": [],
   "source": [
    "import keras"
   ]
  },
  {
   "cell_type": "code",
   "execution_count": null,
   "metadata": {
    "id": "9BzU05PnU5X3"
   },
   "outputs": [],
   "source": [
    "from __future__ import absolute_import\n",
    "from __future__ import print_function\n",
    "import numpy as np"
   ]
  },
  {
   "cell_type": "code",
   "execution_count": null,
   "metadata": {
    "id": "JDMvk5kKU_Wp"
   },
   "outputs": [],
   "source": [
    "import random\n",
    "from keras.datasets import mnist\n",
    "from keras.models import Model\n",
    "from keras.layers import Input, Flatten, Dense, Dropout,Flatten, Lambda\n",
    "from keras.layers import Conv2D, Activation,AveragePooling2D,MaxPooling2D\n",
    "from keras.optimizers import RMSprop"
   ]
  },
  {
   "cell_type": "code",
   "execution_count": null,
   "metadata": {
    "id": "CwCKJrr2VA4g"
   },
   "outputs": [],
   "source": [
    "from keras import backend as K"
   ]
  },
  {
   "cell_type": "code",
   "execution_count": null,
   "metadata": {
    "id": "XV365X_LVCSg"
   },
   "outputs": [],
   "source": [
    "num_classes=10"
   ]
  },
  {
   "cell_type": "code",
   "execution_count": null,
   "metadata": {
    "id": "P9TdR3kpVE0F"
   },
   "outputs": [],
   "source": [
    "def create_pairs(x, digit_indices):\n",
    "  pairs = []\n",
    "  labels = []\n",
    "  \n",
    "  n=min([len(digit_indices[d]) for d in range(num_classes)]) -1\n",
    "  \n",
    "  for d in range(num_classes):\n",
    "    for i in range(n):\n",
    "      z1, z2 = digit_indices[d][i], digit_indices[d][i+1]\n",
    "      pairs += [[x[z1], x[z2]]]\n",
    "      inc = random.randrange(1, num_classes)\n",
    "      dn = (d + inc) % num_classes\n",
    "      z1, z2 = digit_indices[d][i], digit_indices[dn][i]\n",
    "      pairs += [[x[z1], x[z2]]]\n",
    "      labels += [1,0]\n",
    "  return np.array(pairs), np.array(labels)"
   ]
  },
  {
   "cell_type": "code",
   "execution_count": null,
   "metadata": {
    "id": "P8HdvPrIVDWh"
   },
   "outputs": [],
   "source": [
    "def euclid_dis(x_y):\n",
    "  x,y = x_y\n",
    "  sum_square = K.sum(K.square(x-y), axis=1, keepdims=True)\n",
    "  return K.sqrt(K.maximum(sum_square, K.epsilon()))\n",
    "\n",
    "def eucl_dist_output_shape(shapes):\n",
    "    shape1, shape2 = shapes\n",
    "    return (shape1[0], 1)\n",
    "\n",
    "def contrastive_loss(y_true, y_pred):\n",
    "    margin = 1\n",
    "    square_pred = K.square(y_pred)\n",
    "    margin_square = K.square(K.maximum(margin - y_pred, 0))\n",
    "    return K.mean(y_true * square_pred + (1 - y_true) * margin_square)\n",
    "  \n",
    "def regularize_cross_entropy(p, q, ets=1e-15):\n",
    "\treturn -sum([p[i]*log(q[i]+ets) for i in range(len(p))])"
   ]
  },
  {
   "cell_type": "code",
   "execution_count": null,
   "metadata": {
    "id": "7KYXX1ggVJQ_"
   },
   "outputs": [],
   "source": [
    "def compute_accuracy(y_true, y_pred):\n",
    "    pred = y_pred.ravel() < 0.5\n",
    "    return np.mean(pred == y_true)\n",
    "\n",
    "\n",
    "def accuracy(y_true, y_pred):\n",
    "    return K.mean(K.equal(y_true, K.cast(y_pred < 0.5, y_true.dtype)))\n",
    "\n",
    "(x_train, y_train), (x_test, y_test) = mnist.load_data()\n",
    "x_train = x_train.reshape(x_train.shape[0], 28, 28,1)\n",
    "x_test = x_test.reshape(x_test.shape[0], 28, 28, 1)\n",
    "\n",
    "x_train = x_train.astype('float32')\n",
    "x_test = x_test.astype('float32')\n",
    "x_train /= 255\n",
    "x_test /= 255\n",
    "\n",
    "input_shape = x_train.shape[1:]"
   ]
  },
  {
   "cell_type": "code",
   "execution_count": null,
   "metadata": {
    "id": "MhEoeKCWVF4Q"
   },
   "outputs": [],
   "source": [
    "def siamese_model(input_shape):\n",
    "  \n",
    "  input = Input(shape = input_shape)\n",
    "  x = Conv2D(32, (3,3), activation = 'relu')(input)\n",
    "  x = AveragePooling2D(pool_size = (2,2))(x)\n",
    "  x = Conv2D(64, (3,3), activation = 'tanh')(x)\n",
    "  x = MaxPooling2D(pool_size = (2,2))(x)\n",
    "  x = Dropout(0.25)(x)\n",
    "  x = Flatten()(x)\n",
    "  x = Dense(128, activation = 'tanh')(x)\n",
    "  x = Dropout(0.5)(x)\n",
    "  x = Dense(64,activation = 'tanh')(x)\n",
    "  x = Dropout(0.5)(x)\n",
    "  x = Dense(10,activation = 'tanh')(x)\n",
    "  model = Model(input, x)\n",
    "  model.summary()\n",
    "  return model\n"
   ]
  },
  {
   "cell_type": "code",
   "execution_count": null,
   "metadata": {
    "colab": {
     "base_uri": "https://localhost:8080/"
    },
    "id": "IYw4I_BaVMkh",
    "outputId": "7e9cca39-b54b-4198-d5f7-8d8e11a0a050"
   },
   "outputs": [
    {
     "name": "stdout",
     "output_type": "stream",
     "text": [
      "Model: \"model\"\n",
      "_________________________________________________________________\n",
      "Layer (type)                 Output Shape              Param #   \n",
      "=================================================================\n",
      "input_1 (InputLayer)         [(None, 28, 28, 1)]       0         \n",
      "_________________________________________________________________\n",
      "conv2d (Conv2D)              (None, 26, 26, 32)        320       \n",
      "_________________________________________________________________\n",
      "average_pooling2d (AveragePo (None, 13, 13, 32)        0         \n",
      "_________________________________________________________________\n",
      "conv2d_1 (Conv2D)            (None, 11, 11, 64)        18496     \n",
      "_________________________________________________________________\n",
      "max_pooling2d (MaxPooling2D) (None, 5, 5, 64)          0         \n",
      "_________________________________________________________________\n",
      "dropout (Dropout)            (None, 5, 5, 64)          0         \n",
      "_________________________________________________________________\n",
      "flatten (Flatten)            (None, 1600)              0         \n",
      "_________________________________________________________________\n",
      "dense (Dense)                (None, 128)               204928    \n",
      "_________________________________________________________________\n",
      "dropout_1 (Dropout)          (None, 128)               0         \n",
      "_________________________________________________________________\n",
      "dense_1 (Dense)              (None, 64)                8256      \n",
      "_________________________________________________________________\n",
      "dropout_2 (Dropout)          (None, 64)                0         \n",
      "_________________________________________________________________\n",
      "dense_2 (Dense)              (None, 10)                650       \n",
      "=================================================================\n",
      "Total params: 232,650\n",
      "Trainable params: 232,650\n",
      "Non-trainable params: 0\n",
      "_________________________________________________________________\n"
     ]
    }
   ],
   "source": [
    "digit_indices = [np.where(y_train == i)[0] for i in range(num_classes)]\n",
    "pairs_train, y_train = create_pairs(x_train, digit_indices)\n",
    "\n",
    "digit_indices = [np.where(y_test == i)[0] for i in range(num_classes)]\n",
    "pairs_test, y_test = create_pairs(x_test, digit_indices)\n",
    "\n",
    "base_network = siamese_model(input_shape)"
   ]
  },
  {
   "cell_type": "code",
   "execution_count": null,
   "metadata": {
    "id": "Cm-aea7CVOD3"
   },
   "outputs": [],
   "source": [
    "input_a = Input(shape=input_shape)\n",
    "input_b = Input(shape=input_shape)\n",
    "\n",
    "processed_a = base_network(input_a)\n",
    "processed_b = base_network(input_b)\n",
    "\n",
    "distance = Lambda(euclid_dis, output_shape=eucl_dist_output_shape)([processed_a, processed_b])"
   ]
  },
  {
   "cell_type": "code",
   "execution_count": null,
   "metadata": {
    "id": "wuUb2rQ3WZDs"
   },
   "outputs": [],
   "source": [
    "y_test = np.array(y_test, dtype='float32')\n",
    "y_train = np.array(y_train, dtype='float32')"
   ]
  },
  {
   "cell_type": "code",
   "execution_count": null,
   "metadata": {
    "id": "cIh1EXcnVPZP"
   },
   "outputs": [],
   "source": [
    "def fit_model(optim, n_epochs, loss_func):\n",
    "    model = Model([input_a, input_b], distance)   \n",
    "    model.compile(loss=loss_func, optimizer=optim, metrics=[accuracy])\n",
    "    model.fit([pairs_train[:, 0], pairs_train[:, 1]], y_train, batch_size=128, epochs=n_epochs, validation_data=([pairs_test[:, 0], pairs_test[:, 1]], y_test))\n",
    "    return model"
   ]
  },
  {
   "cell_type": "code",
   "execution_count": null,
   "metadata": {
    "id": "gksSjzoYVR-X"
   },
   "outputs": [],
   "source": [
    "def predict(model):\n",
    "    y_pred = model.predict([pairs_train[:, 0], pairs_train[:, 1]])\n",
    "    tr_acc = compute_accuracy(y_train, y_pred)\n",
    "    y_pred = model.predict([pairs_test[:, 0], pairs_test[:, 1]])\n",
    "    te_acc = compute_accuracy(y_test, y_pred)\n",
    "\n",
    "    print('* Accuracy on training set: %0.2f%%' % (100 * tr_acc))\n",
    "    print('* Accuracy on test set: %0.2f%%' % (100 * te_acc))\n",
    "    return te_acc"
   ]
  },
  {
   "cell_type": "markdown",
   "metadata": {
    "id": "b5X4FdekZ1Dw"
   },
   "source": [
    "**Trying different loss functions**"
   ]
  },
  {
   "cell_type": "code",
   "execution_count": null,
   "metadata": {
    "colab": {
     "base_uri": "https://localhost:8080/"
    },
    "id": "3cu6jyD6XgVo",
    "outputId": "74dafc18-e5de-4912-efe7-f1bb1f189c99"
   },
   "outputs": [
    {
     "name": "stdout",
     "output_type": "stream",
     "text": [
      "Epoch 1/2\n",
      "847/847 [==============================] - 153s 179ms/step - loss: 0.8917 - accuracy: 0.5185 - val_loss: 3.1775 - val_accuracy: 0.5000\n",
      "Epoch 2/2\n",
      "847/847 [==============================] - 151s 179ms/step - loss: 0.7258 - accuracy: 0.5011 - val_loss: 2.5741 - val_accuracy: 0.5000\n",
      "* Accuracy on training set: 50.00%\n",
      "* Accuracy on test set: 50.00%\n"
     ]
    }
   ],
   "source": [
    "# LOSS FUNCTION : \"regularized_cross_entropy\"\n",
    "opt = 'adam'\n",
    "n_epochs = 2\n",
    "regularized_cross_entropy = keras.losses.BinaryCrossentropy()\n",
    "siam_model = fit_model(opt, n_epochs, regularized_cross_entropy)\n",
    "test_accuracy_adm = predict(siam_model)"
   ]
  },
  {
   "cell_type": "code",
   "execution_count": null,
   "metadata": {
    "colab": {
     "base_uri": "https://localhost:8080/"
    },
    "id": "Pra1plBEayYg",
    "outputId": "1a5de1d4-13b5-4638-9222-129a69d49ed9"
   },
   "outputs": [
    {
     "name": "stdout",
     "output_type": "stream",
     "text": [
      "Epoch 1/2\n",
      "847/847 [==============================] - 153s 179ms/step - loss: 0.1418 - accuracy: 0.7870 - val_loss: 0.0376 - val_accuracy: 0.9541\n",
      "Epoch 2/2\n",
      "847/847 [==============================] - 155s 183ms/step - loss: 0.0604 - accuracy: 0.9509 - val_loss: 0.0301 - val_accuracy: 0.9679\n",
      "* Accuracy on training set: 97.29%\n",
      "* Accuracy on test set: 96.77%\n"
     ]
    }
   ],
   "source": [
    "# LOSS FUNCTION : \"contrastive_loss\"\n",
    "opt = 'adam'\n",
    "n_epochs = 2\n",
    "siam_model = fit_model(opt, n_epochs, contrastive_loss)\n",
    "test_accuracy_adm = predict(siam_model)"
   ]
  },
  {
   "cell_type": "markdown",
   "metadata": {
    "id": "m_mCWaCgXhMz"
   },
   "source": [
    "**Trying different optimizers**"
   ]
  },
  {
   "cell_type": "code",
   "execution_count": null,
   "metadata": {
    "colab": {
     "base_uri": "https://localhost:8080/"
    },
    "id": "wcWp2IT2ycDw",
    "outputId": "9bd0a70e-0629-4786-d0ed-a7c99dc60e33"
   },
   "outputs": [
    {
     "name": "stdout",
     "output_type": "stream",
     "text": [
      "Epoch 1/2\n",
      "847/847 [==============================] - 151s 176ms/step - loss: 0.1814 - accuracy: 0.7328 - val_loss: 0.0719 - val_accuracy: 0.9289\n",
      "Epoch 2/2\n",
      "847/847 [==============================] - 155s 183ms/step - loss: 0.1046 - accuracy: 0.8845 - val_loss: 0.0641 - val_accuracy: 0.9448\n",
      "* Accuracy on training set: 94.72%\n",
      "* Accuracy on test set: 94.45%\n"
     ]
    }
   ],
   "source": [
    "# optimizer : ADAM\n",
    "opt = 'adam'\n",
    "n_epochs = 2\n",
    "siam_model = fit_model(opt, n_epochs, contrastive_loss)\n",
    "test_accuracy_adm = predict(siam_model)"
   ]
  },
  {
   "cell_type": "code",
   "execution_count": null,
   "metadata": {
    "colab": {
     "base_uri": "https://localhost:8080/"
    },
    "id": "_fy8pstMycru",
    "outputId": "cad8527a-816f-49ed-e5fd-0cc43a1e39e0"
   },
   "outputs": [
    {
     "name": "stdout",
     "output_type": "stream",
     "text": [
      "Epoch 1/2\n",
      "847/847 [==============================] - 150s 176ms/step - loss: 0.0933 - accuracy: 0.9040 - val_loss: 0.0553 - val_accuracy: 0.9492\n",
      "Epoch 2/2\n",
      "847/847 [==============================] - 152s 180ms/step - loss: 0.0830 - accuracy: 0.9213 - val_loss: 0.0508 - val_accuracy: 0.9577\n",
      "* Accuracy on training set: 95.96%\n",
      "* Accuracy on test set: 95.75%\n"
     ]
    }
   ],
   "source": [
    "# optimizer : RMSprop\n",
    "opt = 'RMSprop'\n",
    "n_epochs = 2\n",
    "siam_model = fit_model(opt, n_epochs, contrastive_loss)\n",
    "test_accuracy_rmsprop = predict(siam_model)"
   ]
  },
  {
   "cell_type": "code",
   "execution_count": null,
   "metadata": {
    "colab": {
     "base_uri": "https://localhost:8080/"
    },
    "id": "oLHXRBA-CZXl",
    "outputId": "dfc83053-824c-4745-8a7d-6213dd0ea87e"
   },
   "outputs": [
    {
     "name": "stdout",
     "output_type": "stream",
     "text": [
      "Epoch 1/2\n",
      "847/847 [==============================] - 155s 182ms/step - loss: 0.0753 - accuracy: 0.9348 - val_loss: 0.0511 - val_accuracy: 0.9613\n",
      "Epoch 2/2\n",
      "847/847 [==============================] - 151s 179ms/step - loss: 0.0738 - accuracy: 0.9374 - val_loss: 0.0515 - val_accuracy: 0.9617\n",
      "* Accuracy on training set: 96.54%\n",
      "* Accuracy on test set: 96.14%\n"
     ]
    }
   ],
   "source": [
    "# optimizer : Mini-Batch Gradient Descent\n",
    "opt = 'SGD' # batch-size is given in \"fit\" method\n",
    "n_epochs = 2\n",
    "siam_model = fit_model(opt, n_epochs, contrastive_loss)\n",
    "test_accuracy_mbgd = predict(siam_model)"
   ]
  },
  {
   "cell_type": "code",
   "execution_count": null,
   "metadata": {
    "colab": {
     "base_uri": "https://localhost:8080/"
    },
    "id": "mMXmGO3AIkat",
    "outputId": "c49b8ec3-46ca-417f-a23c-c8cab36c38e3"
   },
   "outputs": [
    {
     "name": "stdout",
     "output_type": "stream",
     "text": [
      "                     Optimizer  Accuracy\n",
      "0                         ADAM  0.944501\n",
      "1                      RMSProp  0.957464\n",
      "2  Mini-Batch Gradient Descent  0.961448\n"
     ]
    }
   ],
   "source": [
    "import pandas as pd\n",
    "data = [['ADAM', test_accuracy_adm], ['RMSProp', test_accuracy_rmsprop], ['Mini-Batch Gradient Descent', test_accuracy_mbgd]]\n",
    "df = pd.DataFrame(data, columns = ['Optimizer', 'Accuracy'])\n",
    "# print dataframe.\n",
    "print(df)"
   ]
  },
  {
   "cell_type": "markdown",
   "metadata": {
    "id": "UKVJX4yY2gab"
   },
   "source": [
    "**REASON :**"
   ]
  },
  {
   "cell_type": "markdown",
   "metadata": {
    "id": "Ep9xMDw21ntr"
   },
   "source": [
    "We see that **\"Adam\" optimizer performs relatively better than \"RMSProp\" and \"Mini-Batch Gradient Descent\"**. This is because Adam (adaptive moment estimation), also uses past learning rates like AdaGrad and RMSProp do.\n",
    "Adam is a replacement optimization algorithm for stochastic gradient descent for training deep learning models.\n",
    "Adam is relatively easy to configure where the default configuration parameters do well on most problems."
   ]
  },
  {
   "cell_type": "markdown",
   "metadata": {
    "id": "xqn1txIi2ZV-"
   },
   "source": [
    "**Hyper Parameter Optimization** \n",
    "\n",
    "---\n",
    "Trying to improve the accuracy of \"Mini-Batch Gradient Descent\" model by :\n",
    "\n",
    "\n",
    "*   Increasing epochs\n",
    "*   Using learning rate\n",
    "*   Using decay rate\n",
    "*   Using momentum\n",
    "\n"
   ]
  },
  {
   "cell_type": "code",
   "execution_count": null,
   "metadata": {
    "colab": {
     "base_uri": "https://localhost:8080/"
    },
    "id": "LNyyTqx02YdI",
    "outputId": "a87044cc-7ada-477e-a8bf-05787fbaab47"
   },
   "outputs": [
    {
     "name": "stdout",
     "output_type": "stream",
     "text": [
      "Epoch 1/2\n",
      "847/847 [==============================] - 154s 180ms/step - loss: 0.1122 - accuracy: 0.8632 - val_loss: 0.0925 - val_accuracy: 0.8847\n",
      "Epoch 2/2\n",
      "847/847 [==============================] - 153s 180ms/step - loss: 0.1081 - accuracy: 0.8696 - val_loss: 0.0923 - val_accuracy: 0.8850\n",
      "* Accuracy on training set: 88.39%\n",
      "* Accuracy on test set: 88.44%\n"
     ]
    }
   ],
   "source": [
    "# optimizer : Mini-Batch Gradient Descent\n",
    "epochs=2\n",
    "learning_rate = 0.02\n",
    "decay_rate = learning_rate / epochs\n",
    "momentum = 0.8\n",
    "\n",
    "opt = keras.optimizers.SGD(lr=learning_rate, momentum=momentum, decay=decay_rate, nesterov=False)\n",
    "siam_model = fit_model(opt, epochs, contrastive_loss)\n",
    "test_accuracy_mbgd = predict(siam_model)"
   ]
  },
  {
   "cell_type": "code",
   "execution_count": null,
   "metadata": {
    "colab": {
     "base_uri": "https://localhost:8080/"
    },
    "id": "5yvKdogLVenJ",
    "outputId": "84fc5a3f-5402-4446-c576-d3001ea2dd1a"
   },
   "outputs": [
    {
     "name": "stdout",
     "output_type": "stream",
     "text": [
      "Epoch 1/10\n",
      "847/847 [==============================] - 153s 180ms/step - loss: 0.0595 - accuracy: 0.9553 - val_loss: 0.0278 - val_accuracy: 0.9596\n",
      "Epoch 2/10\n",
      "847/847 [==============================] - 152s 180ms/step - loss: 0.0540 - accuracy: 0.9624 - val_loss: 0.0265 - val_accuracy: 0.9721\n",
      "Epoch 3/10\n",
      "847/847 [==============================] - 152s 180ms/step - loss: 0.0523 - accuracy: 0.9634 - val_loss: 0.0289 - val_accuracy: 0.9659\n",
      "Epoch 4/10\n",
      "847/847 [==============================] - 154s 182ms/step - loss: 0.0519 - accuracy: 0.9642 - val_loss: 0.0262 - val_accuracy: 0.9686\n",
      "Epoch 5/10\n",
      "847/847 [==============================] - 153s 180ms/step - loss: 0.0516 - accuracy: 0.9655 - val_loss: 0.0264 - val_accuracy: 0.9690\n",
      "Epoch 6/10\n",
      "847/847 [==============================] - 153s 181ms/step - loss: 0.0515 - accuracy: 0.9649 - val_loss: 0.0279 - val_accuracy: 0.9689\n",
      "Epoch 7/10\n",
      "847/847 [==============================] - 154s 181ms/step - loss: 0.0518 - accuracy: 0.9649 - val_loss: 0.0276 - val_accuracy: 0.9661\n",
      "Epoch 8/10\n",
      "847/847 [==============================] - 153s 181ms/step - loss: 0.0509 - accuracy: 0.9657 - val_loss: 0.0268 - val_accuracy: 0.9691\n",
      "Epoch 9/10\n",
      "847/847 [==============================] - 153s 180ms/step - loss: 0.0503 - accuracy: 0.9666 - val_loss: 0.0262 - val_accuracy: 0.9746\n",
      "Epoch 10/10\n",
      "847/847 [==============================] - 153s 180ms/step - loss: 0.0511 - accuracy: 0.9665 - val_loss: 0.0270 - val_accuracy: 0.9751\n",
      "* Accuracy on training set: 98.22%\n",
      "* Accuracy on test set: 97.49%\n"
     ]
    }
   ],
   "source": [
    "# optimizer : Mini-Batch Gradient Descent\n",
    "epochs=10\n",
    "learning_rate = 0.04\n",
    "decay_rate = learning_rate / (1.5*epochs)\n",
    "momentum = 0.8\n",
    "\n",
    "opt = keras.optimizers.SGD(lr=learning_rate, momentum=momentum, decay=decay_rate, nesterov=False)\n",
    "siam_model = fit_model(opt, epochs, contrastive_loss)\n",
    "test_accuracy_mbgd = predict(siam_model)"
   ]
  },
  {
   "cell_type": "markdown",
   "metadata": {
    "id": "pLqz7dPMimfU"
   },
   "source": [
    "# ***Improved Accuracy***\n",
    "**We observe that the accuracy in test data increased from 96.1448% to 97.49%**"
   ]
  },
  {
   "cell_type": "markdown",
   "metadata": {
    "id": "0P4DWspSJDmN"
   },
   "source": [
    "**Pros and Cons of Siamese Networks**"
   ]
  },
  {
   "cell_type": "markdown",
   "metadata": {
    "id": "mK6h8mdEJGQ-"
   },
   "source": [
    "PROS :\n",
    "\n",
    "*More Robust to class Imbalance*: With the aid of One-shot learning, given a few images per class is sufficient for Siamese Networks to recognize those images in the future\n",
    "\n",
    "*Nice to an ensemble with the best classifier*: Given that its learning mechanism is somewhat different from Classification, simple averaging of it with a Classifier can do much better than average 2 correlated Supervised models (e.g. GBM & RF classifier)\n",
    "\n",
    "*Learning from Semantic Similarity*: Siamese focuses on learning embeddings (in the deeper layer) that place the same classes/concepts close together. Hence, can learn semantic similarity."
   ]
  },
  {
   "cell_type": "markdown",
   "metadata": {
    "id": "-tAVnHsSUFUx"
   },
   "source": [
    "**CONS:**\n",
    "\n",
    "*Needs more training time than normal networks:* Since Siamese Networks involves quadratic pairs to learn from (to see all information available) it is slower than normal classification type of learning(pointwise learning)\n",
    "\n",
    "Doesn’t output probabilities: Since training involves pairwise learning, it won’t output the probabilities of the prediction, but the distance from each class"
   ]
  },
  {
   "cell_type": "code",
   "execution_count": null,
   "metadata": {
    "id": "mGV4Y_4Uanvw"
   },
   "outputs": [],
   "source": []
  }
 ],
 "metadata": {
  "colab": {
   "collapsed_sections": [],
   "name": "q4.ipynb",
   "provenance": []
  },
  "kernelspec": {
   "display_name": "Python 3",
   "language": "python",
   "name": "python3"
  },
  "language_info": {
   "codemirror_mode": {
    "name": "ipython",
    "version": 3
   },
   "file_extension": ".py",
   "mimetype": "text/x-python",
   "name": "python",
   "nbconvert_exporter": "python",
   "pygments_lexer": "ipython3",
   "version": "3.8.5"
  }
 },
 "nbformat": 4,
 "nbformat_minor": 1
}
