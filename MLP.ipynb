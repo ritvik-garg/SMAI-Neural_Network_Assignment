{
 "cells": [
  {
   "cell_type": "code",
   "execution_count": null,
   "metadata": {
    "id": "Z9L_IohH1Ka_"
   },
   "outputs": [],
   "source": [
    "import numpy as np\n",
    "import tensorflow as tf\n",
    "from tensorflow.keras.models import Sequential\n",
    "from tensorflow.keras.layers import Dense, Activation, Dropout\n",
    "from tensorflow.keras.datasets import mnist\n",
    "from tensorflow import keras\n",
    "import matplotlib.pyplot as plt\n",
    "(x_train, y_train), (x_test, y_test) = mnist.load_data()"
   ]
  },
  {
   "cell_type": "code",
   "execution_count": null,
   "metadata": {
    "colab": {
     "base_uri": "https://localhost:8080/"
    },
    "id": "fHKZftNuxGHB",
    "outputId": "f1738506-2c65-4cdd-e8de-40f11d040583"
   },
   "outputs": [
    {
     "name": "stdout",
     "output_type": "stream",
     "text": [
      "total labels: 10\n"
     ]
    }
   ],
   "source": [
    "num_labels = len(np.unique(y_train))\n",
    "print(\"total labels:\", (num_labels))"
   ]
  },
  {
   "cell_type": "code",
   "execution_count": null,
   "metadata": {
    "id": "vvLJnshnxHqD"
   },
   "outputs": [],
   "source": [
    "from tensorflow.keras.utils import to_categorical\n",
    "y_train = to_categorical(y_train)\n",
    "y_test = to_categorical(y_test)"
   ]
  },
  {
   "cell_type": "code",
   "execution_count": null,
   "metadata": {
    "colab": {
     "base_uri": "https://localhost:8080/"
    },
    "id": "z3v2ql0ExVR6",
    "outputId": "f1a9fb30-23c6-4e26-ee27-4b829afa8537"
   },
   "outputs": [
    {
     "name": "stdout",
     "output_type": "stream",
     "text": [
      "x_train: (60000, 28, 28)\n",
      "x_test: (10000, 28, 28)\n",
      "x_train: (60000, 784)\n",
      "x_test: (10000, 784)\n"
     ]
    }
   ],
   "source": [
    "image_size = x_train.shape[1] \n",
    "input_size = image_size * image_size\n",
    "\n",
    "print(\"x_train:\", x_train.shape)\n",
    "print(\"x_test:\", x_test.shape)\n",
    "\n",
    "x_train = np.reshape(x_train, [-1, input_size])\n",
    "x_train = x_train.astype('float32') / 255\n",
    "\n",
    "x_test = np.reshape(x_test, [-1, input_size])\n",
    "x_test = x_test.astype('float32') / 255\n",
    "\n",
    "print(\"x_train:\", x_train.shape)\n",
    "print(\"x_test:\", x_test.shape)"
   ]
  },
  {
   "cell_type": "code",
   "execution_count": null,
   "metadata": {
    "id": "8UEDT30axn1C"
   },
   "outputs": [],
   "source": [
    "# Parameters\n",
    "batch_size = 128 # It is the sample size of inputs to be processed at each training stage. \n",
    "hidden_units = 256\n",
    "dropout = 0.45\n",
    "\n",
    "\n",
    "def model_MLP(ip_size):\n",
    "    model = Sequential()\n",
    "\n",
    "    model.add(Dense(hidden_units, input_dim=ip_size))\n",
    "    model.add(Activation('relu'))\n",
    "    model.add(Dropout(dropout))\n",
    "\n",
    "    model.add(Dense(hidden_units))\n",
    "    model.add(Activation('relu'))\n",
    "    model.add(Dropout(dropout))\n",
    "\n",
    "    model.add(Dense(num_labels))\n",
    "\n",
    "    model.add(Activation('softmax'))\n",
    "    # print(model.summary())\n",
    "    return model\n"
   ]
  },
  {
   "cell_type": "code",
   "execution_count": null,
   "metadata": {
    "colab": {
     "base_uri": "https://localhost:8080/"
    },
    "id": "TMNLzMYvPkFl",
    "outputId": "1f43d402-a2f3-4a66-9169-c63349e3ac1a"
   },
   "outputs": [
    {
     "name": "stdout",
     "output_type": "stream",
     "text": [
      "Model: \"sequential\"\n",
      "_________________________________________________________________\n",
      "Layer (type)                 Output Shape              Param #   \n",
      "=================================================================\n",
      "dense (Dense)                (None, 256)               200960    \n",
      "_________________________________________________________________\n",
      "activation (Activation)      (None, 256)               0         \n",
      "_________________________________________________________________\n",
      "dropout (Dropout)            (None, 256)               0         \n",
      "_________________________________________________________________\n",
      "dense_1 (Dense)              (None, 256)               65792     \n",
      "_________________________________________________________________\n",
      "activation_1 (Activation)    (None, 256)               0         \n",
      "_________________________________________________________________\n",
      "dropout_1 (Dropout)          (None, 256)               0         \n",
      "_________________________________________________________________\n",
      "dense_2 (Dense)              (None, 10)                2570      \n",
      "_________________________________________________________________\n",
      "activation_2 (Activation)    (None, 10)                0         \n",
      "=================================================================\n",
      "Total params: 269,322\n",
      "Trainable params: 269,322\n",
      "Non-trainable params: 0\n",
      "_________________________________________________________________\n",
      "None\n"
     ]
    }
   ],
   "source": [
    "model = model_MLP(input_size)\n",
    "print(model.summary())"
   ]
  },
  {
   "cell_type": "code",
   "execution_count": null,
   "metadata": {
    "id": "g1JvlgS_yJ8B"
   },
   "outputs": [],
   "source": [
    "model.compile(loss='categorical_crossentropy', optimizer='adam', metrics=['accuracy'])"
   ]
  },
  {
   "cell_type": "code",
   "execution_count": null,
   "metadata": {
    "colab": {
     "base_uri": "https://localhost:8080/"
    },
    "id": "OHlwH5Y7ySm0",
    "outputId": "7b11a5a3-54ce-4d23-bee0-78460fb229c5"
   },
   "outputs": [
    {
     "name": "stdout",
     "output_type": "stream",
     "text": [
      "Epoch 1/20\n",
      "469/469 [==============================] - 3s 6ms/step - loss: 0.7343 - accuracy: 0.7639\n",
      "Epoch 2/20\n",
      "469/469 [==============================] - 3s 6ms/step - loss: 0.2035 - accuracy: 0.9391\n",
      "Epoch 3/20\n",
      "469/469 [==============================] - 3s 6ms/step - loss: 0.1547 - accuracy: 0.9537\n",
      "Epoch 4/20\n",
      "469/469 [==============================] - 3s 6ms/step - loss: 0.1297 - accuracy: 0.9603\n",
      "Epoch 5/20\n",
      "469/469 [==============================] - 3s 6ms/step - loss: 0.1116 - accuracy: 0.9653\n",
      "Epoch 6/20\n",
      "469/469 [==============================] - 3s 6ms/step - loss: 0.0988 - accuracy: 0.9707\n",
      "Epoch 7/20\n",
      "469/469 [==============================] - 3s 6ms/step - loss: 0.0926 - accuracy: 0.9722\n",
      "Epoch 8/20\n",
      "469/469 [==============================] - 3s 6ms/step - loss: 0.0881 - accuracy: 0.9727\n",
      "Epoch 9/20\n",
      "469/469 [==============================] - 3s 6ms/step - loss: 0.0804 - accuracy: 0.9743\n",
      "Epoch 10/20\n",
      "469/469 [==============================] - 3s 6ms/step - loss: 0.0764 - accuracy: 0.9762\n",
      "Epoch 11/20\n",
      "469/469 [==============================] - 3s 6ms/step - loss: 0.0695 - accuracy: 0.9780\n",
      "Epoch 12/20\n",
      "469/469 [==============================] - 3s 6ms/step - loss: 0.0688 - accuracy: 0.9780\n",
      "Epoch 13/20\n",
      "469/469 [==============================] - 3s 6ms/step - loss: 0.0662 - accuracy: 0.9792\n",
      "Epoch 14/20\n",
      "469/469 [==============================] - 3s 6ms/step - loss: 0.0651 - accuracy: 0.9784\n",
      "Epoch 15/20\n",
      "469/469 [==============================] - 3s 6ms/step - loss: 0.0580 - accuracy: 0.9807\n",
      "Epoch 16/20\n",
      "469/469 [==============================] - 3s 6ms/step - loss: 0.0601 - accuracy: 0.9797\n",
      "Epoch 17/20\n",
      "469/469 [==============================] - 3s 6ms/step - loss: 0.0547 - accuracy: 0.9814\n",
      "Epoch 18/20\n",
      "469/469 [==============================] - 3s 6ms/step - loss: 0.0532 - accuracy: 0.9834\n",
      "Epoch 19/20\n",
      "469/469 [==============================] - 3s 6ms/step - loss: 0.0525 - accuracy: 0.9829\n",
      "Epoch 20/20\n",
      "469/469 [==============================] - 3s 6ms/step - loss: 0.0511 - accuracy: 0.9836\n"
     ]
    }
   ],
   "source": [
    "history = model.fit(x_train, y_train, epochs=20, batch_size=batch_size)"
   ]
  },
  {
   "cell_type": "code",
   "execution_count": null,
   "metadata": {
    "id": "WAWE5ZiJT2N-"
   },
   "outputs": [],
   "source": [
    "def plot_accuracy_vs_epochs(fitted, num_epochs, modelname):\n",
    "      accuracy = fitted.history['accuracy']\n",
    "      epochs = range(1,num_epochs+1)\n",
    "      plt.plot(epochs, accuracy, 'g', label='Training accuracy')\n",
    "      plt.title('Accuracy vs Epochs of ' + modelname)\n",
    "      plt.xlabel('Epochs')\n",
    "      plt.ylabel('Accuracy')\n",
    "      plt.legend()\n",
    "      plt.show()"
   ]
  },
  {
   "cell_type": "code",
   "execution_count": null,
   "metadata": {
    "colab": {
     "base_uri": "https://localhost:8080/",
     "height": 295
    },
    "id": "Cx2YA1_oUkVn",
    "outputId": "5cb61897-b985-4d62-83e1-59560bd300ce"
   },
   "outputs": [
    {
     "data": {
      "image/png": "[encoded data removed]",
      "text/plain": [
       "<Figure size 432x288 with 1 Axes>"
      ]
     },
     "metadata": {
      "needs_background": "light",
      "tags": []
     },
     "output_type": "display_data"
    }
   ],
   "source": [
    "plot_accuracy_vs_epochs(history, 20, \"ADAM\")"
   ]
  },
  {
   "cell_type": "code",
   "execution_count": null,
   "metadata": {
    "colab": {
     "base_uri": "https://localhost:8080/"
    },
    "id": "gyKGmaabyUmM",
    "outputId": "f315bf6f-61ea-4a09-9dfd-878b6707c9e2"
   },
   "outputs": [
    {
     "name": "stdout",
     "output_type": "stream",
     "text": [
      "Accuracy: 98.25000166893005\n"
     ]
    }
   ],
   "source": [
    "_, acc = model.evaluate(x_test, y_test, batch_size=batch_size, verbose=0)\n",
    "print(\"Accuracy:\", 100.0*acc)"
   ]
  },
  {
   "cell_type": "markdown",
   "metadata": {
    "id": "WcGo_lDOtK00"
   },
   "source": [
    "## ***PART-1***"
   ]
  },
  {
   "cell_type": "markdown",
   "metadata": {
    "id": "XNyPPnWfP8A0"
   },
   "source": [
    "**Trying different optimizers :**"
   ]
  },
  {
   "cell_type": "code",
   "execution_count": null,
   "metadata": {
    "colab": {
     "base_uri": "https://localhost:8080/",
     "height": 992
    },
    "id": "IN8CbZDnQAP4",
    "outputId": "cd96644d-bee2-49e9-ab74-ae395f6973f7"
   },
   "outputs": [
    {
     "name": "stdout",
     "output_type": "stream",
     "text": [
      "Epoch 1/20\n",
      "469/469 [==============================] - 3s 6ms/step - loss: 1.9450 - accuracy: 0.3326\n",
      "Epoch 2/20\n",
      "469/469 [==============================] - 3s 6ms/step - loss: 0.8830 - accuracy: 0.7259\n",
      "Epoch 3/20\n",
      "469/469 [==============================] - 3s 6ms/step - loss: 0.6467 - accuracy: 0.7995\n",
      "Epoch 4/20\n",
      "469/469 [==============================] - 3s 6ms/step - loss: 0.5547 - accuracy: 0.8302\n",
      "Epoch 5/20\n",
      "469/469 [==============================] - 3s 6ms/step - loss: 0.5040 - accuracy: 0.8465\n",
      "Epoch 6/20\n",
      "469/469 [==============================] - 3s 6ms/step - loss: 0.4638 - accuracy: 0.8628\n",
      "Epoch 7/20\n",
      "469/469 [==============================] - 3s 6ms/step - loss: 0.4238 - accuracy: 0.8753\n",
      "Epoch 8/20\n",
      "469/469 [==============================] - 3s 6ms/step - loss: 0.4009 - accuracy: 0.8821\n",
      "Epoch 9/20\n",
      "469/469 [==============================] - 3s 6ms/step - loss: 0.3816 - accuracy: 0.8858\n",
      "Epoch 10/20\n",
      "469/469 [==============================] - 3s 6ms/step - loss: 0.3665 - accuracy: 0.8920\n",
      "Epoch 11/20\n",
      "469/469 [==============================] - 3s 6ms/step - loss: 0.3476 - accuracy: 0.8979\n",
      "Epoch 12/20\n",
      "469/469 [==============================] - 3s 6ms/step - loss: 0.3309 - accuracy: 0.9023\n",
      "Epoch 13/20\n",
      "469/469 [==============================] - 3s 6ms/step - loss: 0.3245 - accuracy: 0.9046\n",
      "Epoch 14/20\n",
      "469/469 [==============================] - 3s 6ms/step - loss: 0.3118 - accuracy: 0.9087\n",
      "Epoch 15/20\n",
      "469/469 [==============================] - 3s 6ms/step - loss: 0.3097 - accuracy: 0.9087\n",
      "Epoch 16/20\n",
      "469/469 [==============================] - 3s 6ms/step - loss: 0.2896 - accuracy: 0.9137\n",
      "Epoch 17/20\n",
      "469/469 [==============================] - 3s 6ms/step - loss: 0.2842 - accuracy: 0.9162\n",
      "Epoch 18/20\n",
      "469/469 [==============================] - 3s 6ms/step - loss: 0.2776 - accuracy: 0.9188\n",
      "Epoch 19/20\n",
      "469/469 [==============================] - 3s 6ms/step - loss: 0.2728 - accuracy: 0.9206\n",
      "Epoch 20/20\n",
      "469/469 [==============================] - 3s 6ms/step - loss: 0.2545 - accuracy: 0.9230\n"
     ]
    },
    {
     "data": {
      "image/png": "[encoded data removed]",
      "text/plain": [
       "<Figure size 432x288 with 1 Axes>"
      ]
     },
     "metadata": {
      "needs_background": "light",
      "tags": []
     },
     "output_type": "display_data"
    },
    {
     "name": "stdout",
     "output_type": "stream",
     "text": [
      "Accuracy: 94.91999745368958\n"
     ]
    }
   ],
   "source": [
    "# stochastic gradient descent without momentum\n",
    "model_sgd = model_MLP(input_size)\n",
    "# print(model_sgd.summary())\n",
    "model_sgd.compile(loss='categorical_crossentropy', optimizer='SGD', metrics=['accuracy'])\n",
    "history_sgd = model_sgd.fit(x_train, y_train, epochs=20, batch_size=batch_size)\n",
    "_, acc = model_sgd.evaluate(x_test, y_test, batch_size=batch_size, verbose=0)\n",
    "\n",
    "plot_accuracy_vs_epochs(history_sgd, 20, \"SGD\")\n",
    "\n",
    "print(\"Accuracy:\", 100.0*acc)"
   ]
  },
  {
   "cell_type": "code",
   "execution_count": null,
   "metadata": {
    "colab": {
     "base_uri": "https://localhost:8080/",
     "height": 992
    },
    "id": "M7IcOKxFQOpZ",
    "outputId": "10364eab-6613-4ec5-f5cb-fb581bf2726f"
   },
   "outputs": [
    {
     "name": "stdout",
     "output_type": "stream",
     "text": [
      "Epoch 1/20\n",
      "469/469 [==============================] - 4s 7ms/step - loss: 0.6448 - accuracy: 0.7975\n",
      "Epoch 2/20\n",
      "469/469 [==============================] - 4s 7ms/step - loss: 0.2071 - accuracy: 0.9379\n",
      "Epoch 3/20\n",
      "469/469 [==============================] - 3s 7ms/step - loss: 0.1590 - accuracy: 0.9538\n",
      "Epoch 4/20\n",
      "469/469 [==============================] - 3s 7ms/step - loss: 0.1316 - accuracy: 0.9620\n",
      "Epoch 5/20\n",
      "469/469 [==============================] - 3s 7ms/step - loss: 0.1278 - accuracy: 0.9654\n",
      "Epoch 6/20\n",
      "469/469 [==============================] - 3s 7ms/step - loss: 0.1169 - accuracy: 0.9677\n",
      "Epoch 7/20\n",
      "469/469 [==============================] - 3s 7ms/step - loss: 0.1105 - accuracy: 0.9683\n",
      "Epoch 8/20\n",
      "469/469 [==============================] - 3s 7ms/step - loss: 0.1044 - accuracy: 0.9713\n",
      "Epoch 9/20\n",
      "469/469 [==============================] - 3s 7ms/step - loss: 0.0950 - accuracy: 0.9724\n",
      "Epoch 10/20\n",
      "469/469 [==============================] - 3s 7ms/step - loss: 0.0934 - accuracy: 0.9746\n",
      "Epoch 11/20\n",
      "469/469 [==============================] - 3s 7ms/step - loss: 0.0976 - accuracy: 0.9746\n",
      "Epoch 12/20\n",
      "469/469 [==============================] - 3s 7ms/step - loss: 0.0900 - accuracy: 0.9756\n",
      "Epoch 13/20\n",
      "469/469 [==============================] - 3s 7ms/step - loss: 0.0885 - accuracy: 0.9762\n",
      "Epoch 14/20\n",
      "469/469 [==============================] - 3s 7ms/step - loss: 0.0857 - accuracy: 0.9765\n",
      "Epoch 15/20\n",
      "469/469 [==============================] - 3s 7ms/step - loss: 0.0868 - accuracy: 0.9771\n",
      "Epoch 16/20\n",
      "469/469 [==============================] - 3s 7ms/step - loss: 0.0819 - accuracy: 0.9793\n",
      "Epoch 17/20\n",
      "469/469 [==============================] - 3s 7ms/step - loss: 0.0882 - accuracy: 0.9779\n",
      "Epoch 18/20\n",
      "469/469 [==============================] - 3s 7ms/step - loss: 0.0868 - accuracy: 0.9787\n",
      "Epoch 19/20\n",
      "469/469 [==============================] - 3s 7ms/step - loss: 0.0841 - accuracy: 0.9793\n",
      "Epoch 20/20\n",
      "469/469 [==============================] - 3s 7ms/step - loss: 0.0856 - accuracy: 0.9784\n"
     ]
    },
    {
     "data": {
      "image/png": "[encoded data removed]",
      "text/plain": [
       "<Figure size 432x288 with 1 Axes>"
      ]
     },
     "metadata": {
      "needs_background": "light",
      "tags": []
     },
     "output_type": "display_data"
    },
    {
     "name": "stdout",
     "output_type": "stream",
     "text": [
      "Accuracy: 98.05999994277954\n"
     ]
    }
   ],
   "source": [
    "# RMSProp\n",
    "model_rmsprop = model_MLP(input_size)\n",
    "# print(model_sgd.summary())\n",
    "model_rmsprop.compile(loss='categorical_crossentropy', optimizer='RMSprop', metrics=['accuracy'])\n",
    "history_rms = model_rmsprop.fit(x_train, y_train, epochs=20, batch_size=batch_size)\n",
    "_, acc = model_rmsprop.evaluate(x_test, y_test, batch_size=batch_size, verbose=0)\n",
    "\n",
    "plot_accuracy_vs_epochs(history_rms, 20, \"RMSprop\")\n",
    "\n",
    "print(\"Accuracy:\", 100.0*acc)"
   ]
  },
  {
   "cell_type": "code",
   "execution_count": null,
   "metadata": {
    "colab": {
     "base_uri": "https://localhost:8080/",
     "height": 992
    },
    "id": "S9kgT6DtSGH3",
    "outputId": "2601c341-1a8a-41a2-9d99-27ada4a00913"
   },
   "outputs": [
    {
     "name": "stdout",
     "output_type": "stream",
     "text": [
      "Epoch 1/20\n",
      "469/469 [==============================] - 3s 6ms/step - loss: 1.1225 - accuracy: 0.6262\n",
      "Epoch 2/20\n",
      "469/469 [==============================] - 3s 6ms/step - loss: 0.3377 - accuracy: 0.8988\n",
      "Epoch 3/20\n",
      "469/469 [==============================] - 3s 6ms/step - loss: 0.2624 - accuracy: 0.9223\n",
      "Epoch 4/20\n",
      "469/469 [==============================] - 3s 6ms/step - loss: 0.2109 - accuracy: 0.9365\n",
      "Epoch 5/20\n",
      "469/469 [==============================] - 3s 6ms/step - loss: 0.1930 - accuracy: 0.9429\n",
      "Epoch 6/20\n",
      "469/469 [==============================] - 3s 6ms/step - loss: 0.1724 - accuracy: 0.9487\n",
      "Epoch 7/20\n",
      "469/469 [==============================] - 3s 6ms/step - loss: 0.1571 - accuracy: 0.9543\n",
      "Epoch 8/20\n",
      "469/469 [==============================] - 3s 6ms/step - loss: 0.1410 - accuracy: 0.9578\n",
      "Epoch 9/20\n",
      "469/469 [==============================] - 3s 6ms/step - loss: 0.1364 - accuracy: 0.9591\n",
      "Epoch 10/20\n",
      "469/469 [==============================] - 3s 6ms/step - loss: 0.1290 - accuracy: 0.9609\n",
      "Epoch 11/20\n",
      "469/469 [==============================] - 3s 6ms/step - loss: 0.1196 - accuracy: 0.9647\n",
      "Epoch 12/20\n",
      "469/469 [==============================] - 3s 6ms/step - loss: 0.1113 - accuracy: 0.9661\n",
      "Epoch 13/20\n",
      "469/469 [==============================] - 3s 6ms/step - loss: 0.1072 - accuracy: 0.9663\n",
      "Epoch 14/20\n",
      "469/469 [==============================] - 3s 6ms/step - loss: 0.0993 - accuracy: 0.9703\n",
      "Epoch 15/20\n",
      "469/469 [==============================] - 3s 6ms/step - loss: 0.0932 - accuracy: 0.9713\n",
      "Epoch 16/20\n",
      "469/469 [==============================] - 3s 6ms/step - loss: 0.0935 - accuracy: 0.9716\n",
      "Epoch 17/20\n",
      "469/469 [==============================] - 3s 6ms/step - loss: 0.0929 - accuracy: 0.9720\n",
      "Epoch 18/20\n",
      "469/469 [==============================] - 3s 6ms/step - loss: 0.0815 - accuracy: 0.9750\n",
      "Epoch 19/20\n",
      "469/469 [==============================] - 3s 6ms/step - loss: 0.0816 - accuracy: 0.9742\n",
      "Epoch 20/20\n",
      "469/469 [==============================] - 3s 6ms/step - loss: 0.0797 - accuracy: 0.9761\n"
     ]
    },
    {
     "data": {
      "image/png": "[encoded data removed]",
      "text/plain": [
       "<Figure size 432x288 with 1 Axes>"
      ]
     },
     "metadata": {
      "needs_background": "light",
      "tags": []
     },
     "output_type": "display_data"
    },
    {
     "name": "stdout",
     "output_type": "stream",
     "text": [
      "Accuracy: 98.12999963760376\n"
     ]
    }
   ],
   "source": [
    "# stochastic gradient descent with momentum\n",
    "model_sgdmomentum = model_MLP(input_size)\n",
    "# print(model_sgd.summary())\n",
    "opt = keras.optimizers.SGD(learning_rate=0.01, momentum=0.9)\n",
    "model_sgdmomentum.compile(loss='categorical_crossentropy', optimizer=opt, metrics=['accuracy'])\n",
    "history_sgd_momentum = model_sgdmomentum.fit(x_train, y_train, epochs=20, batch_size=batch_size)\n",
    "_, acc_sgdmomentum = model_sgdmomentum.evaluate(x_test, y_test, batch_size=batch_size, verbose=0)\n",
    "\n",
    "plot_accuracy_vs_epochs(history_sgd_momentum, 20, \"SGD with momentum\")\n",
    "\n",
    "print(\"Accuracy:\", 100.0*acc_sgdmomentum)"
   ]
  },
  {
   "cell_type": "markdown",
   "metadata": {
    "id": "0fTtkKRKtiiT"
   },
   "source": [
    "***Try different weight initialisations of the neural network***"
   ]
  },
  {
   "cell_type": "code",
   "execution_count": null,
   "metadata": {
    "id": "i6NTXHkdtpkC"
   },
   "outputs": [],
   "source": [
    "# https://keras.io/api/layers/initializers/"
   ]
  },
  {
   "cell_type": "code",
   "execution_count": null,
   "metadata": {
    "id": "42tlgXhYtqLr"
   },
   "outputs": [],
   "source": [
    "from tensorflow.keras import initializers\n",
    "def model_MLP_with_weight_init(ip_size, weight_init):\n",
    "    model = Sequential()\n",
    "\n",
    "    model.add(Dense(hidden_units, kernel_initializer=weight_init, input_dim=ip_size))\n",
    "    model.add(Activation('relu'))\n",
    "    model.add(Dropout(dropout))\n",
    "\n",
    "    model.add(Dense(hidden_units))\n",
    "    model.add(Activation('relu'))\n",
    "    model.add(Dropout(dropout))\n",
    "\n",
    "    model.add(Dense(num_labels))\n",
    "\n",
    "    model.add(Activation('softmax'))\n",
    "    # print(model.summary())\n",
    "    return model"
   ]
  },
  {
   "cell_type": "code",
   "execution_count": null,
   "metadata": {
    "colab": {
     "base_uri": "https://localhost:8080/",
     "height": 992
    },
    "id": "llcFfpyLwv3N",
    "outputId": "95776eaa-adfd-46f8-ad51-394b53c464d2"
   },
   "outputs": [
    {
     "name": "stdout",
     "output_type": "stream",
     "text": [
      "Epoch 1/20\n",
      "469/469 [==============================] - 3s 6ms/step - loss: 3.2939 - accuracy: 0.5205\n",
      "Epoch 2/20\n",
      "469/469 [==============================] - 3s 6ms/step - loss: 0.6378 - accuracy: 0.7996\n",
      "Epoch 3/20\n",
      "469/469 [==============================] - 3s 6ms/step - loss: 0.4781 - accuracy: 0.8517\n",
      "Epoch 4/20\n",
      "469/469 [==============================] - 3s 6ms/step - loss: 0.3789 - accuracy: 0.8846\n",
      "Epoch 5/20\n",
      "469/469 [==============================] - 3s 6ms/step - loss: 0.3217 - accuracy: 0.9001\n",
      "Epoch 6/20\n",
      "469/469 [==============================] - 3s 6ms/step - loss: 0.2984 - accuracy: 0.9059\n",
      "Epoch 7/20\n",
      "469/469 [==============================] - 3s 6ms/step - loss: 0.2676 - accuracy: 0.9175\n",
      "Epoch 8/20\n",
      "469/469 [==============================] - 3s 6ms/step - loss: 0.2420 - accuracy: 0.9250\n",
      "Epoch 9/20\n",
      "469/469 [==============================] - 3s 6ms/step - loss: 0.2327 - accuracy: 0.9275\n",
      "Epoch 10/20\n",
      "469/469 [==============================] - 3s 6ms/step - loss: 0.2160 - accuracy: 0.9342\n",
      "Epoch 11/20\n",
      "469/469 [==============================] - 3s 7ms/step - loss: 0.2022 - accuracy: 0.9385\n",
      "Epoch 12/20\n",
      "469/469 [==============================] - 3s 6ms/step - loss: 0.1955 - accuracy: 0.9399\n",
      "Epoch 13/20\n",
      "469/469 [==============================] - 3s 6ms/step - loss: 0.1845 - accuracy: 0.9414\n",
      "Epoch 14/20\n",
      "469/469 [==============================] - 3s 6ms/step - loss: 0.1784 - accuracy: 0.9464\n",
      "Epoch 15/20\n",
      "469/469 [==============================] - 3s 6ms/step - loss: 0.1708 - accuracy: 0.9470\n",
      "Epoch 16/20\n",
      "469/469 [==============================] - 3s 6ms/step - loss: 0.1643 - accuracy: 0.9485\n",
      "Epoch 17/20\n",
      "469/469 [==============================] - 3s 6ms/step - loss: 0.1557 - accuracy: 0.9520\n",
      "Epoch 18/20\n",
      "469/469 [==============================] - 3s 6ms/step - loss: 0.1477 - accuracy: 0.9533\n",
      "Epoch 19/20\n",
      "469/469 [==============================] - 3s 6ms/step - loss: 0.1513 - accuracy: 0.9547\n",
      "Epoch 20/20\n",
      "469/469 [==============================] - 3s 6ms/step - loss: 0.1371 - accuracy: 0.9566\n"
     ]
    },
    {
     "data": {
      "image/png": "[encoded data removed]",
      "text/plain": [
       "<Figure size 432x288 with 1 Axes>"
      ]
     },
     "metadata": {
      "needs_background": "light",
      "tags": []
     },
     "output_type": "display_data"
    },
    {
     "name": "stdout",
     "output_type": "stream",
     "text": [
      "Accuracy: 97.49000072479248\n"
     ]
    }
   ],
   "source": [
    "# weight initialisation of the neural network : NORMAL\n",
    "\n",
    "initializer = tf.keras.initializers.RandomNormal(mean=0., stddev=1.)\n",
    "model_Normal = model_MLP_with_weight_init(input_size, initializer)\n",
    "model_Normal.compile(loss='categorical_crossentropy', optimizer='adam', metrics=['accuracy'])\n",
    "history_adm = model_Normal.fit(x_train, y_train, epochs=20, batch_size=batch_size)\n",
    "_, acc = model_Normal.evaluate(x_test, y_test, batch_size=batch_size, verbose=0)\n",
    "\n",
    "plot_accuracy_vs_epochs(history_adm, 20, \"Adam\")\n",
    "\n",
    "print(\"Accuracy:\", 100.0*acc)"
   ]
  },
  {
   "cell_type": "code",
   "execution_count": null,
   "metadata": {
    "colab": {
     "base_uri": "https://localhost:8080/",
     "height": 992
    },
    "id": "Sc97ovG7tq8L",
    "outputId": "073844d7-6c36-4232-bcb4-1de029ca2f5f"
   },
   "outputs": [
    {
     "name": "stdout",
     "output_type": "stream",
     "text": [
      "Epoch 1/20\n",
      "469/469 [==============================] - 4s 6ms/step - loss: 16.3073 - accuracy: 0.1083\n",
      "Epoch 2/20\n",
      "469/469 [==============================] - 3s 6ms/step - loss: 2.3177 - accuracy: 0.1117\n",
      "Epoch 3/20\n",
      "469/469 [==============================] - 3s 6ms/step - loss: 2.3072 - accuracy: 0.1143\n",
      "Epoch 4/20\n",
      "469/469 [==============================] - 3s 6ms/step - loss: 2.3036 - accuracy: 0.1126\n",
      "Epoch 5/20\n",
      "469/469 [==============================] - 3s 6ms/step - loss: 2.3020 - accuracy: 0.1102\n",
      "Epoch 6/20\n",
      "469/469 [==============================] - 3s 6ms/step - loss: 2.3028 - accuracy: 0.1123\n",
      "Epoch 7/20\n",
      "469/469 [==============================] - 3s 6ms/step - loss: 2.3029 - accuracy: 0.1094\n",
      "Epoch 8/20\n",
      "469/469 [==============================] - 3s 6ms/step - loss: 2.3011 - accuracy: 0.1148\n",
      "Epoch 9/20\n",
      "469/469 [==============================] - 3s 6ms/step - loss: 2.3017 - accuracy: 0.1126\n",
      "Epoch 10/20\n",
      "469/469 [==============================] - 3s 6ms/step - loss: 2.3017 - accuracy: 0.1116\n",
      "Epoch 11/20\n",
      "469/469 [==============================] - 3s 6ms/step - loss: 2.3010 - accuracy: 0.1147\n",
      "Epoch 12/20\n",
      "469/469 [==============================] - 3s 6ms/step - loss: 2.3010 - accuracy: 0.1143\n",
      "Epoch 13/20\n",
      "469/469 [==============================] - 3s 6ms/step - loss: 2.3012 - accuracy: 0.1141\n",
      "Epoch 14/20\n",
      "469/469 [==============================] - 3s 6ms/step - loss: 2.3014 - accuracy: 0.1105\n",
      "Epoch 15/20\n",
      "469/469 [==============================] - 3s 6ms/step - loss: 2.3017 - accuracy: 0.1101\n",
      "Epoch 16/20\n",
      "469/469 [==============================] - 3s 6ms/step - loss: 2.3012 - accuracy: 0.1132\n",
      "Epoch 17/20\n",
      "469/469 [==============================] - 3s 6ms/step - loss: 2.3012 - accuracy: 0.1130\n",
      "Epoch 18/20\n",
      "469/469 [==============================] - 3s 6ms/step - loss: 2.3018 - accuracy: 0.1098\n",
      "Epoch 19/20\n",
      "469/469 [==============================] - 3s 6ms/step - loss: 2.3016 - accuracy: 0.1106\n",
      "Epoch 20/20\n",
      "469/469 [==============================] - 3s 6ms/step - loss: 2.3013 - accuracy: 0.1141\n"
     ]
    },
    {
     "data": {
      "image/png": "[encoded data removed]",
      "text/plain": [
       "<Figure size 432x288 with 1 Axes>"
      ]
     },
     "metadata": {
      "needs_background": "light",
      "tags": []
     },
     "output_type": "display_data"
    },
    {
     "name": "stdout",
     "output_type": "stream",
     "text": [
      "Accuracy: 11.349999904632568\n"
     ]
    }
   ],
   "source": [
    "# weight initialisation of the neural network : UNIFORM\n",
    "\n",
    "initializer = tf.keras.initializers.RandomUniform(minval=0., maxval=1.)\n",
    "model_Uniform = model_MLP_with_weight_init(input_size, initializer)\n",
    "model_Uniform.compile(loss='categorical_crossentropy', optimizer='adam', metrics=['accuracy'])\n",
    "history_adm = model_Uniform.fit(x_train, y_train, epochs=20, batch_size=batch_size)\n",
    "_, acc = model_Uniform.evaluate(x_test, y_test, batch_size=batch_size, verbose=0)\n",
    "\n",
    "plot_accuracy_vs_epochs(history_adm, 20, \"Adam\")\n",
    "\n",
    "print(\"Accuracy:\", 100.0*acc)"
   ]
  },
  {
   "cell_type": "code",
   "execution_count": null,
   "metadata": {
    "colab": {
     "base_uri": "https://localhost:8080/",
     "height": 992
    },
    "id": "zoHSmNGwtrB0",
    "outputId": "48510d79-00ed-4079-ab1e-e643dc3eb5ba"
   },
   "outputs": [
    {
     "name": "stdout",
     "output_type": "stream",
     "text": [
      "Epoch 1/20\n",
      "469/469 [==============================] - 3s 6ms/step - loss: 0.7389 - accuracy: 0.7630\n",
      "Epoch 2/20\n",
      "469/469 [==============================] - 3s 6ms/step - loss: 0.2111 - accuracy: 0.9379\n",
      "Epoch 3/20\n",
      "469/469 [==============================] - 3s 6ms/step - loss: 0.1548 - accuracy: 0.9534\n",
      "Epoch 4/20\n",
      "469/469 [==============================] - 3s 6ms/step - loss: 0.1278 - accuracy: 0.9617\n",
      "Epoch 5/20\n",
      "469/469 [==============================] - 3s 6ms/step - loss: 0.1186 - accuracy: 0.9634\n",
      "Epoch 6/20\n",
      "469/469 [==============================] - 3s 6ms/step - loss: 0.1018 - accuracy: 0.9688\n",
      "Epoch 7/20\n",
      "469/469 [==============================] - 3s 6ms/step - loss: 0.0899 - accuracy: 0.9719\n",
      "Epoch 8/20\n",
      "469/469 [==============================] - 3s 6ms/step - loss: 0.0896 - accuracy: 0.9723\n",
      "Epoch 9/20\n",
      "469/469 [==============================] - 3s 6ms/step - loss: 0.0812 - accuracy: 0.9747\n",
      "Epoch 10/20\n",
      "469/469 [==============================] - 3s 6ms/step - loss: 0.0787 - accuracy: 0.9752\n",
      "Epoch 11/20\n",
      "469/469 [==============================] - 3s 7ms/step - loss: 0.0669 - accuracy: 0.9783\n",
      "Epoch 12/20\n",
      "469/469 [==============================] - 3s 6ms/step - loss: 0.0751 - accuracy: 0.9750\n",
      "Epoch 13/20\n",
      "469/469 [==============================] - 3s 6ms/step - loss: 0.0685 - accuracy: 0.9791\n",
      "Epoch 14/20\n",
      "469/469 [==============================] - 3s 7ms/step - loss: 0.0638 - accuracy: 0.9794\n",
      "Epoch 15/20\n",
      "469/469 [==============================] - 3s 6ms/step - loss: 0.0625 - accuracy: 0.9798\n",
      "Epoch 16/20\n",
      "469/469 [==============================] - 3s 6ms/step - loss: 0.0581 - accuracy: 0.9815\n",
      "Epoch 17/20\n",
      "469/469 [==============================] - 3s 6ms/step - loss: 0.0560 - accuracy: 0.9819\n",
      "Epoch 18/20\n",
      "469/469 [==============================] - 3s 6ms/step - loss: 0.0562 - accuracy: 0.9819\n",
      "Epoch 19/20\n",
      "469/469 [==============================] - 3s 6ms/step - loss: 0.0534 - accuracy: 0.9837\n",
      "Epoch 20/20\n",
      "469/469 [==============================] - 3s 6ms/step - loss: 0.0561 - accuracy: 0.9823\n"
     ]
    },
    {
     "data": {
      "image/png": "[encoded data removed]",
      "text/plain": [
       "<Figure size 432x288 with 1 Axes>"
      ]
     },
     "metadata": {
      "needs_background": "light",
      "tags": []
     },
     "output_type": "display_data"
    },
    {
     "name": "stdout",
     "output_type": "stream",
     "text": [
      "Accuracy: 98.19999933242798\n"
     ]
    }
   ],
   "source": [
    "# weight initialisation of the neural network : XAVIER(normal)\n",
    "\n",
    "initializer = tf.keras.initializers.GlorotNormal()\n",
    "model_Xavier = model_MLP_with_weight_init(input_size, initializer)\n",
    "model_Xavier.compile(loss='categorical_crossentropy', optimizer='adam', metrics=['accuracy'])\n",
    "history_adm = model_Xavier.fit(x_train, y_train, epochs=20, batch_size=batch_size)\n",
    "_, acc = model_Xavier.evaluate(x_test, y_test, batch_size=batch_size, verbose=0)\n",
    "\n",
    "plot_accuracy_vs_epochs(history_adm, 20, \"Adam\")\n",
    "\n",
    "print(\"Accuracy:\", 100.0*acc)"
   ]
  },
  {
   "cell_type": "markdown",
   "metadata": {
    "id": "5FUX2lcZyEuP"
   },
   "source": [
    "### **Try different learning rates and also perform exponential annealing on the learning rate.**"
   ]
  },
  {
   "cell_type": "code",
   "execution_count": null,
   "metadata": {
    "id": "rVi6UGwqyRya"
   },
   "outputs": [],
   "source": [
    "learning_rate = [0.005, 0.01, 0.05, 0.1, 0.2]\n",
    "accuracies = []"
   ]
  },
  {
   "cell_type": "code",
   "execution_count": null,
   "metadata": {
    "colab": {
     "base_uri": "https://localhost:8080/"
    },
    "id": "pbn98AhEyR0k",
    "outputId": "608beaf2-9da7-4626-9a1c-168acd5db113"
   },
   "outputs": [
    {
     "name": "stdout",
     "output_type": "stream",
     "text": [
      "Epoch 1/20\n",
      "469/469 [==============================] - 3s 6ms/step - loss: 0.5483 - accuracy: 0.8264\n",
      "Epoch 2/20\n",
      "469/469 [==============================] - 3s 6ms/step - loss: 0.2391 - accuracy: 0.9315\n",
      "Epoch 3/20\n",
      "469/469 [==============================] - 3s 6ms/step - loss: 0.2200 - accuracy: 0.9358\n",
      "Epoch 4/20\n",
      "469/469 [==============================] - 3s 6ms/step - loss: 0.1934 - accuracy: 0.9443\n",
      "Epoch 5/20\n",
      "469/469 [==============================] - 3s 6ms/step - loss: 0.1932 - accuracy: 0.9451\n",
      "Epoch 6/20\n",
      "469/469 [==============================] - 3s 6ms/step - loss: 0.1827 - accuracy: 0.9481\n",
      "Epoch 7/20\n",
      "469/469 [==============================] - 3s 6ms/step - loss: 0.1827 - accuracy: 0.9508\n",
      "Epoch 8/20\n",
      "469/469 [==============================] - 3s 6ms/step - loss: 0.1707 - accuracy: 0.9532\n",
      "Epoch 9/20\n",
      "469/469 [==============================] - 3s 6ms/step - loss: 0.1682 - accuracy: 0.9546\n",
      "Epoch 10/20\n",
      "469/469 [==============================] - 3s 6ms/step - loss: 0.1723 - accuracy: 0.9542\n",
      "Epoch 11/20\n",
      "469/469 [==============================] - 3s 6ms/step - loss: 0.1664 - accuracy: 0.9550\n",
      "Epoch 12/20\n",
      "469/469 [==============================] - 3s 6ms/step - loss: 0.1619 - accuracy: 0.9560\n",
      "Epoch 13/20\n",
      "469/469 [==============================] - 3s 6ms/step - loss: 0.1728 - accuracy: 0.9538\n",
      "Epoch 14/20\n",
      "469/469 [==============================] - 3s 6ms/step - loss: 0.1559 - accuracy: 0.9584\n",
      "Epoch 15/20\n",
      "469/469 [==============================] - 3s 6ms/step - loss: 0.1597 - accuracy: 0.9579\n",
      "Epoch 16/20\n",
      "469/469 [==============================] - 3s 6ms/step - loss: 0.1542 - accuracy: 0.9585\n",
      "Epoch 17/20\n",
      "469/469 [==============================] - 3s 6ms/step - loss: 0.1511 - accuracy: 0.9622\n",
      "Epoch 18/20\n",
      "469/469 [==============================] - 3s 6ms/step - loss: 0.1589 - accuracy: 0.9594\n",
      "Epoch 19/20\n",
      "469/469 [==============================] - 3s 6ms/step - loss: 0.1468 - accuracy: 0.9608\n",
      "Epoch 20/20\n",
      "469/469 [==============================] - 3s 6ms/step - loss: 0.1496 - accuracy: 0.9599\n",
      "Accuracy: 97.40999937057495\n",
      "Epoch 1/20\n",
      "469/469 [==============================] - 3s 6ms/step - loss: 0.6201 - accuracy: 0.8088\n",
      "Epoch 2/20\n",
      "469/469 [==============================] - 3s 6ms/step - loss: 0.3750 - accuracy: 0.8975\n",
      "Epoch 3/20\n",
      "469/469 [==============================] - 3s 6ms/step - loss: 0.3502 - accuracy: 0.9072\n",
      "Epoch 4/20\n",
      "469/469 [==============================] - 3s 6ms/step - loss: 0.3626 - accuracy: 0.9074\n",
      "Epoch 5/20\n",
      "469/469 [==============================] - 3s 6ms/step - loss: 0.3355 - accuracy: 0.9164\n",
      "Epoch 6/20\n",
      "469/469 [==============================] - 3s 6ms/step - loss: 0.3416 - accuracy: 0.9141\n",
      "Epoch 7/20\n",
      "469/469 [==============================] - 3s 6ms/step - loss: 0.3281 - accuracy: 0.9196\n",
      "Epoch 8/20\n",
      "469/469 [==============================] - 3s 6ms/step - loss: 0.3177 - accuracy: 0.9211\n",
      "Epoch 9/20\n",
      "469/469 [==============================] - 3s 6ms/step - loss: 0.3115 - accuracy: 0.9244\n",
      "Epoch 10/20\n",
      "469/469 [==============================] - 3s 6ms/step - loss: 0.2858 - accuracy: 0.9292\n",
      "Epoch 11/20\n",
      "469/469 [==============================] - 3s 6ms/step - loss: 0.3130 - accuracy: 0.9260\n",
      "Epoch 12/20\n",
      "469/469 [==============================] - 3s 6ms/step - loss: 0.3167 - accuracy: 0.9264\n",
      "Epoch 13/20\n",
      "469/469 [==============================] - 3s 6ms/step - loss: 0.3233 - accuracy: 0.9270\n",
      "Epoch 14/20\n",
      "469/469 [==============================] - 3s 6ms/step - loss: 0.3113 - accuracy: 0.9274\n",
      "Epoch 15/20\n",
      "469/469 [==============================] - 3s 6ms/step - loss: 0.3238 - accuracy: 0.9226\n",
      "Epoch 16/20\n",
      "469/469 [==============================] - 3s 6ms/step - loss: 0.2959 - accuracy: 0.9311\n",
      "Epoch 17/20\n",
      "469/469 [==============================] - 3s 6ms/step - loss: 0.2789 - accuracy: 0.9332\n",
      "Epoch 18/20\n",
      "469/469 [==============================] - 3s 6ms/step - loss: 0.3104 - accuracy: 0.9255\n",
      "Epoch 19/20\n",
      "469/469 [==============================] - 3s 6ms/step - loss: 0.2815 - accuracy: 0.9337\n",
      "Epoch 20/20\n",
      "469/469 [==============================] - 3s 6ms/step - loss: 0.2912 - accuracy: 0.9331\n",
      "Accuracy: 95.660001039505\n",
      "Epoch 1/20\n",
      "469/469 [==============================] - 3s 6ms/step - loss: 2.3927 - accuracy: 0.4033\n",
      "Epoch 2/20\n",
      "469/469 [==============================] - 3s 6ms/step - loss: 1.5818 - accuracy: 0.4296\n",
      "Epoch 3/20\n",
      "469/469 [==============================] - 3s 6ms/step - loss: 1.5903 - accuracy: 0.4153\n",
      "Epoch 4/20\n",
      "469/469 [==============================] - 3s 6ms/step - loss: 1.5785 - accuracy: 0.4168\n",
      "Epoch 5/20\n",
      "469/469 [==============================] - 3s 6ms/step - loss: 1.6309 - accuracy: 0.3910\n",
      "Epoch 6/20\n",
      "469/469 [==============================] - 3s 6ms/step - loss: 1.8707 - accuracy: 0.3241\n",
      "Epoch 7/20\n",
      "469/469 [==============================] - 3s 6ms/step - loss: 1.9084 - accuracy: 0.2952\n",
      "Epoch 8/20\n",
      "469/469 [==============================] - 3s 6ms/step - loss: 1.8776 - accuracy: 0.3016\n",
      "Epoch 9/20\n",
      "469/469 [==============================] - 3s 6ms/step - loss: 1.9335 - accuracy: 0.2713\n",
      "Epoch 10/20\n",
      "469/469 [==============================] - 3s 7ms/step - loss: 1.9267 - accuracy: 0.2736\n",
      "Epoch 11/20\n",
      "469/469 [==============================] - 3s 7ms/step - loss: 1.8739 - accuracy: 0.2878\n",
      "Epoch 12/20\n",
      "469/469 [==============================] - 3s 6ms/step - loss: 1.8883 - accuracy: 0.2821\n",
      "Epoch 13/20\n",
      "469/469 [==============================] - 3s 6ms/step - loss: 1.9094 - accuracy: 0.2695\n",
      "Epoch 14/20\n",
      "469/469 [==============================] - 3s 6ms/step - loss: 1.9520 - accuracy: 0.2629\n",
      "Epoch 15/20\n",
      "469/469 [==============================] - 3s 6ms/step - loss: 1.9153 - accuracy: 0.2654\n",
      "Epoch 16/20\n",
      "469/469 [==============================] - 3s 6ms/step - loss: 1.9006 - accuracy: 0.2691\n",
      "Epoch 17/20\n",
      "469/469 [==============================] - 3s 6ms/step - loss: 2.0024 - accuracy: 0.2486\n",
      "Epoch 18/20\n",
      "469/469 [==============================] - 3s 6ms/step - loss: 1.9474 - accuracy: 0.2343\n",
      "Epoch 19/20\n",
      "469/469 [==============================] - 3s 6ms/step - loss: 1.9641 - accuracy: 0.2394\n",
      "Epoch 20/20\n",
      "469/469 [==============================] - 3s 6ms/step - loss: 1.9545 - accuracy: 0.2404\n",
      "Accuracy: 30.21000027656555\n",
      "Epoch 1/20\n",
      "469/469 [==============================] - 3s 6ms/step - loss: 6.3704 - accuracy: 0.1611\n",
      "Epoch 2/20\n",
      "469/469 [==============================] - 3s 6ms/step - loss: 2.2407 - accuracy: 0.1407\n",
      "Epoch 3/20\n",
      "469/469 [==============================] - 3s 6ms/step - loss: 2.2397 - accuracy: 0.1342\n",
      "Epoch 4/20\n",
      "469/469 [==============================] - 3s 6ms/step - loss: 2.2435 - accuracy: 0.1318\n",
      "Epoch 5/20\n",
      "469/469 [==============================] - 3s 6ms/step - loss: 2.2763 - accuracy: 0.1205\n",
      "Epoch 6/20\n",
      "469/469 [==============================] - 3s 6ms/step - loss: 2.3079 - accuracy: 0.1080\n",
      "Epoch 7/20\n",
      "469/469 [==============================] - 3s 6ms/step - loss: 2.3069 - accuracy: 0.1035\n",
      "Epoch 8/20\n",
      "469/469 [==============================] - 3s 6ms/step - loss: 2.3081 - accuracy: 0.1050\n",
      "Epoch 9/20\n",
      "469/469 [==============================] - 3s 6ms/step - loss: 2.3070 - accuracy: 0.1064\n",
      "Epoch 10/20\n",
      "469/469 [==============================] - 3s 7ms/step - loss: 2.3068 - accuracy: 0.1060\n",
      "Epoch 11/20\n",
      "469/469 [==============================] - 3s 6ms/step - loss: 2.3081 - accuracy: 0.1034\n",
      "Epoch 12/20\n",
      "469/469 [==============================] - 3s 6ms/step - loss: 2.3075 - accuracy: 0.1039\n",
      "Epoch 13/20\n",
      "469/469 [==============================] - 3s 6ms/step - loss: 2.3068 - accuracy: 0.1061\n",
      "Epoch 14/20\n",
      "469/469 [==============================] - 3s 6ms/step - loss: 2.3064 - accuracy: 0.1073\n",
      "Epoch 15/20\n",
      "469/469 [==============================] - 3s 6ms/step - loss: 2.3079 - accuracy: 0.1042\n",
      "Epoch 16/20\n",
      "469/469 [==============================] - 3s 7ms/step - loss: 2.3057 - accuracy: 0.1049\n",
      "Epoch 17/20\n",
      "469/469 [==============================] - 3s 7ms/step - loss: 2.3078 - accuracy: 0.1044\n",
      "Epoch 18/20\n",
      "469/469 [==============================] - 3s 6ms/step - loss: 2.3079 - accuracy: 0.1033\n",
      "Epoch 19/20\n",
      "469/469 [==============================] - 3s 6ms/step - loss: 2.3073 - accuracy: 0.1042\n",
      "Epoch 20/20\n",
      "469/469 [==============================] - 3s 6ms/step - loss: 2.3069 - accuracy: 0.1053\n",
      "Accuracy: 10.100000351667404\n",
      "Epoch 1/20\n",
      "469/469 [==============================] - 3s 6ms/step - loss: 16.0656 - accuracy: 0.1035\n",
      "Epoch 2/20\n",
      "469/469 [==============================] - 3s 6ms/step - loss: 2.3156 - accuracy: 0.1017\n",
      "Epoch 3/20\n",
      "469/469 [==============================] - 3s 6ms/step - loss: 2.3223 - accuracy: 0.1036\n",
      "Epoch 4/20\n",
      "469/469 [==============================] - 3s 6ms/step - loss: 2.3113 - accuracy: 0.1050\n",
      "Epoch 5/20\n",
      "469/469 [==============================] - 3s 6ms/step - loss: 2.3127 - accuracy: 0.1006\n",
      "Epoch 6/20\n",
      "469/469 [==============================] - 3s 6ms/step - loss: 2.3131 - accuracy: 0.1025\n",
      "Epoch 7/20\n",
      "469/469 [==============================] - 3s 6ms/step - loss: 2.3124 - accuracy: 0.1035\n",
      "Epoch 8/20\n",
      "469/469 [==============================] - 3s 6ms/step - loss: 2.3143 - accuracy: 0.1016\n",
      "Epoch 9/20\n",
      "469/469 [==============================] - 3s 6ms/step - loss: 2.3126 - accuracy: 0.1022\n",
      "Epoch 10/20\n",
      "469/469 [==============================] - 3s 7ms/step - loss: 2.3154 - accuracy: 0.1046\n",
      "Epoch 11/20\n",
      "469/469 [==============================] - 3s 6ms/step - loss: 2.3113 - accuracy: 0.1033\n",
      "Epoch 12/20\n",
      "469/469 [==============================] - 3s 6ms/step - loss: 2.3129 - accuracy: 0.1024\n",
      "Epoch 13/20\n",
      "469/469 [==============================] - 3s 6ms/step - loss: 2.3134 - accuracy: 0.1023\n",
      "Epoch 14/20\n",
      "469/469 [==============================] - 3s 6ms/step - loss: 2.3131 - accuracy: 0.1001\n",
      "Epoch 15/20\n",
      "469/469 [==============================] - 3s 6ms/step - loss: 2.3121 - accuracy: 0.1045\n",
      "Epoch 16/20\n",
      "469/469 [==============================] - 3s 6ms/step - loss: 2.3135 - accuracy: 0.1036\n",
      "Epoch 17/20\n",
      "469/469 [==============================] - 3s 6ms/step - loss: 2.3128 - accuracy: 0.1027\n",
      "Epoch 18/20\n",
      "469/469 [==============================] - 3s 6ms/step - loss: 2.3147 - accuracy: 0.1010\n",
      "Epoch 19/20\n",
      "469/469 [==============================] - 3s 6ms/step - loss: 2.3127 - accuracy: 0.1022\n",
      "Epoch 20/20\n",
      "469/469 [==============================] - 3s 6ms/step - loss: 2.3130 - accuracy: 0.1023\n",
      "Accuracy: 8.92999991774559\n"
     ]
    }
   ],
   "source": [
    "for l_rate in learning_rate:\n",
    "    model_adm = model_MLP(input_size)\n",
    "    opt = keras.optimizers.Adam(learning_rate=l_rate)\n",
    "    model_adm.compile(loss='categorical_crossentropy', optimizer=opt, metrics=['accuracy'])\n",
    "    history_sgd = model_adm.fit(x_train, y_train, epochs=20, batch_size=batch_size)\n",
    "    _, acc = model_adm.evaluate(x_test, y_test, batch_size=batch_size, verbose=0)\n",
    "    print(\"Accuracy:\", 100.0*acc)\n",
    "    accuracies.append(100.0*acc)\n",
    "\n"
   ]
  },
  {
   "cell_type": "code",
   "execution_count": null,
   "metadata": {
    "colab": {
     "base_uri": "https://localhost:8080/",
     "height": 347
    },
    "id": "jtcUiCJjyR2a",
    "outputId": "c6faff79-c9cb-4463-9509-ecacb89d76de"
   },
   "outputs": [
    {
     "name": "stderr",
     "output_type": "stream",
     "text": [
      "No handles with labels found to put in legend.\n"
     ]
    },
    {
     "name": "stdout",
     "output_type": "stream",
     "text": [
      "learning rates :  [0.005, 0.01, 0.05, 0.1, 0.2]\n",
      "accuracies :  [97.40999937057495, 95.660001039505, 30.21000027656555, 10.100000351667404, 8.92999991774559]\n"
     ]
    },
    {
     "data": {
      "image/png": "[encoded data removed]",
      "text/plain": [
       "<Figure size 432x288 with 1 Axes>"
      ]
     },
     "metadata": {
      "needs_background": "light",
      "tags": []
     },
     "output_type": "display_data"
    }
   ],
   "source": [
    "print (\"learning rates : \", learning_rate)\n",
    "print (\"accuracies : \", accuracies)\n",
    "\n",
    "plt.plot(learning_rate, accuracies)\n",
    "plt.title('Accuracy vs leaning_rate of Adam model')\n",
    "plt.xlabel('leaning_rate')\n",
    "plt.ylabel('Accuracy')\n",
    "plt.legend()\n",
    "plt.show()"
   ]
  },
  {
   "cell_type": "markdown",
   "metadata": {
    "id": "LTmVajDe_r9H"
   },
   "source": [
    "**Exponential annealing on the learning rate**"
   ]
  },
  {
   "cell_type": "code",
   "execution_count": null,
   "metadata": {
    "colab": {
     "base_uri": "https://localhost:8080/"
    },
    "id": "n3IT6yCJyR8P",
    "outputId": "4e67abbd-6b39-4c11-821c-0c4c18e92d86"
   },
   "outputs": [
    {
     "name": "stdout",
     "output_type": "stream",
     "text": [
      "Epoch 1/20\n",
      "469/469 [==============================] - 3s 6ms/step - loss: 1.9590 - accuracy: 0.3209\n",
      "Epoch 2/20\n",
      "469/469 [==============================] - 3s 6ms/step - loss: 0.9024 - accuracy: 0.7155\n",
      "Epoch 3/20\n",
      "469/469 [==============================] - 3s 6ms/step - loss: 0.6721 - accuracy: 0.7914\n",
      "Epoch 4/20\n",
      "469/469 [==============================] - 3s 6ms/step - loss: 0.5699 - accuracy: 0.8262\n",
      "Epoch 5/20\n",
      "469/469 [==============================] - 3s 6ms/step - loss: 0.5077 - accuracy: 0.8483\n",
      "Epoch 6/20\n",
      "469/469 [==============================] - 3s 6ms/step - loss: 0.4572 - accuracy: 0.8644\n",
      "Epoch 7/20\n",
      "469/469 [==============================] - 3s 6ms/step - loss: 0.4277 - accuracy: 0.8705\n",
      "Epoch 8/20\n",
      "469/469 [==============================] - 3s 6ms/step - loss: 0.4047 - accuracy: 0.8778\n",
      "Epoch 9/20\n",
      "469/469 [==============================] - 3s 6ms/step - loss: 0.3798 - accuracy: 0.8871\n",
      "Epoch 10/20\n",
      "469/469 [==============================] - 3s 6ms/step - loss: 0.3630 - accuracy: 0.8909\n",
      "Epoch 11/20\n",
      "469/469 [==============================] - 3s 6ms/step - loss: 0.3501 - accuracy: 0.8959\n",
      "Epoch 12/20\n",
      "469/469 [==============================] - 3s 6ms/step - loss: 0.3420 - accuracy: 0.8962\n",
      "Epoch 13/20\n",
      "469/469 [==============================] - 3s 6ms/step - loss: 0.3225 - accuracy: 0.9046\n",
      "Epoch 14/20\n",
      "469/469 [==============================] - 3s 6ms/step - loss: 0.3066 - accuracy: 0.9103\n",
      "Epoch 15/20\n",
      "469/469 [==============================] - 3s 6ms/step - loss: 0.3022 - accuracy: 0.9110\n",
      "Epoch 16/20\n",
      "469/469 [==============================] - 3s 6ms/step - loss: 0.2904 - accuracy: 0.9152\n",
      "Epoch 17/20\n",
      "469/469 [==============================] - 3s 6ms/step - loss: 0.2837 - accuracy: 0.9136\n",
      "Epoch 18/20\n",
      "469/469 [==============================] - 3s 6ms/step - loss: 0.2760 - accuracy: 0.9199\n",
      "Epoch 19/20\n",
      "469/469 [==============================] - 3s 6ms/step - loss: 0.2722 - accuracy: 0.9201\n",
      "Epoch 20/20\n",
      "469/469 [==============================] - 3s 6ms/step - loss: 0.2705 - accuracy: 0.9216\n",
      "Accuracy: 94.85999941825867\n"
     ]
    }
   ],
   "source": [
    "lr_schedule = keras.optimizers.schedules.ExponentialDecay(initial_learning_rate=1e-2, decay_steps=10000, decay_rate=0.9)\n",
    "opt = keras.optimizers.SGD(learning_rate=lr_schedule)\n",
    "\n",
    "model_sgd = model_MLP(input_size)\n",
    "model_sgd.compile(loss='categorical_crossentropy', optimizer=opt, metrics=['accuracy'])\n",
    "history_sgd = model_sgd.fit(x_train, y_train, epochs=20, batch_size=batch_size)\n",
    "_, acc = model_sgd.evaluate(x_test, y_test, batch_size=batch_size, verbose=0)\n",
    "print(\"Accuracy:\", 100.0*acc)"
   ]
  },
  {
   "cell_type": "markdown",
   "metadata": {
    "id": "r-Sx3F19ySlv"
   },
   "source": [
    "# **PART-2**"
   ]
  },
  {
   "cell_type": "code",
   "execution_count": null,
   "metadata": {
    "id": "8MaKfzhSSS_7"
   },
   "outputs": [],
   "source": [
    "import torch\n",
    "import torchvision as tv\n",
    "import torch.nn as nn\n",
    "import torch.nn.functional as F\n",
    "import torch.optim as optim\n",
    "from torchvision import datasets, transforms\n",
    "import matplotlib.pyplot as plt"
   ]
  },
  {
   "cell_type": "code",
   "execution_count": null,
   "metadata": {
    "id": "Lp7WFzjqk7dJ"
   },
   "outputs": [],
   "source": [
    "# repeatedly reduce the size\n",
    "class Autoencoder_Linear(nn.Module):\n",
    "    def __init__(self, last_layer):\n",
    "        super().__init__()        \n",
    "        self.encoder = nn.Sequential(\n",
    "            nn.Linear(28 * 28, 200), # (N, 784) -> (N, 128)\n",
    "            nn.ReLU(),\n",
    "            nn.Linear(200, 150),\n",
    "            nn.ReLU(),\n",
    "            # nn.Linear(64, 12),\n",
    "            # nn.ReLU(),\n",
    "            nn.Linear(150, last_layer) # -> N, 3\n",
    "        )\n",
    "        \n",
    "        self.decoder = nn.Sequential(\n",
    "            nn.Linear(last_layer, 150),\n",
    "            nn.ReLU(),\n",
    "            nn.Linear(150,200),\n",
    "            nn.ReLU(),\n",
    "            # nn.Linear(64, 128),\n",
    "            # nn.ReLU(),\n",
    "            nn.Linear(200, 28 * 28),\n",
    "            nn.Sigmoid()\n",
    "        )\n",
    "\n",
    "    def forward(self, x):\n",
    "        encoded = self.encoder(x)\n",
    "        decoded = self.decoder(encoded)\n",
    "        return decoded, encoded"
   ]
  },
  {
   "cell_type": "code",
   "execution_count": null,
   "metadata": {
    "id": "WPV54_gflMAP"
   },
   "outputs": [],
   "source": [
    "n_last_layers = 120\n",
    "num_epochs=2\n",
    "criterion = nn.MSELoss()\n",
    "model = Autoencoder_Linear(n_last_layers)\n",
    "x_train_encoded = []\n",
    "for img in x_train:\n",
    "    img = torch.from_numpy(img)\n",
    "    recon, encod = model(img)\n",
    "    np_img = encod.detach().numpy()\n",
    "    x_train_encoded.append(np_img)\n",
    "\n",
    "x_test_encoded = []\n",
    "for img in x_test:\n",
    "    img = torch.from_numpy(img)\n",
    "    recon, encod = model(img)\n",
    "    np_img = encod.detach().numpy()\n",
    "    x_test_encoded.append(np_img)\n"
   ]
  },
  {
   "cell_type": "code",
   "execution_count": null,
   "metadata": {
    "id": "OwO0EDmsl6Hi"
   },
   "outputs": [],
   "source": [
    "x_train_encoded = np.array(x_train_encoded)\n",
    "x_test_encoded = np.array(x_test_encoded)"
   ]
  },
  {
   "cell_type": "code",
   "execution_count": null,
   "metadata": {
    "colab": {
     "base_uri": "https://localhost:8080/"
    },
    "id": "PdFiHPXIxPrh",
    "outputId": "fbacc988-c09e-4fe8-d743-7a274fb3accb"
   },
   "outputs": [
    {
     "name": "stdout",
     "output_type": "stream",
     "text": [
      "number of original feature :  784\n",
      "number of reduced features :  120\n"
     ]
    }
   ],
   "source": [
    "print(\"number of original feature : \", input_size)\n",
    "print (\"number of reduced features : \", n_last_layers)"
   ]
  },
  {
   "cell_type": "code",
   "execution_count": null,
   "metadata": {
    "colab": {
     "base_uri": "https://localhost:8080/"
    },
    "id": "1YK2o6ycrx54",
    "outputId": "1583d944-77fc-4e37-ba95-5e0ef3f4b217"
   },
   "outputs": [
    {
     "name": "stdout",
     "output_type": "stream",
     "text": [
      "Epoch 1/20\n",
      "469/469 [==============================] - 3s 5ms/step - loss: 1.6944 - accuracy: 0.4269\n",
      "Epoch 2/20\n",
      "469/469 [==============================] - 2s 5ms/step - loss: 0.8356 - accuracy: 0.7278\n",
      "Epoch 3/20\n",
      "469/469 [==============================] - 2s 5ms/step - loss: 0.6991 - accuracy: 0.7741\n",
      "Epoch 4/20\n",
      "469/469 [==============================] - 2s 5ms/step - loss: 0.6283 - accuracy: 0.7954\n",
      "Epoch 5/20\n",
      "469/469 [==============================] - 2s 5ms/step - loss: 0.5886 - accuracy: 0.8092\n",
      "Epoch 6/20\n",
      "469/469 [==============================] - 2s 5ms/step - loss: 0.5388 - accuracy: 0.8245\n",
      "Epoch 7/20\n",
      "469/469 [==============================] - 2s 5ms/step - loss: 0.5206 - accuracy: 0.8321\n",
      "Epoch 8/20\n",
      "469/469 [==============================] - 2s 5ms/step - loss: 0.4900 - accuracy: 0.8433\n",
      "Epoch 9/20\n",
      "469/469 [==============================] - 2s 5ms/step - loss: 0.4720 - accuracy: 0.8455\n",
      "Epoch 10/20\n",
      "469/469 [==============================] - 2s 5ms/step - loss: 0.4574 - accuracy: 0.8535\n",
      "Epoch 11/20\n",
      "469/469 [==============================] - 2s 5ms/step - loss: 0.4498 - accuracy: 0.8552\n",
      "Epoch 12/20\n",
      "469/469 [==============================] - 2s 5ms/step - loss: 0.4421 - accuracy: 0.8585\n",
      "Epoch 13/20\n",
      "469/469 [==============================] - 2s 5ms/step - loss: 0.4333 - accuracy: 0.8629\n",
      "Epoch 14/20\n",
      "469/469 [==============================] - 2s 5ms/step - loss: 0.4139 - accuracy: 0.8658\n",
      "Epoch 15/20\n",
      "469/469 [==============================] - 2s 5ms/step - loss: 0.4130 - accuracy: 0.8664\n",
      "Epoch 16/20\n",
      "469/469 [==============================] - 2s 5ms/step - loss: 0.4012 - accuracy: 0.8701\n",
      "Epoch 17/20\n",
      "469/469 [==============================] - 2s 5ms/step - loss: 0.3929 - accuracy: 0.8736\n",
      "Epoch 18/20\n",
      "469/469 [==============================] - 2s 5ms/step - loss: 0.3843 - accuracy: 0.8795\n",
      "Epoch 19/20\n",
      "469/469 [==============================] - 2s 5ms/step - loss: 0.3793 - accuracy: 0.8773\n",
      "Epoch 20/20\n",
      "469/469 [==============================] - 2s 5ms/step - loss: 0.3692 - accuracy: 0.8809\n"
     ]
    }
   ],
   "source": [
    "ip_size = n_last_layers\n",
    "model_adm = model_MLP(ip_size)\n",
    "# print(model_sgd.summary())\n",
    "model_adm.compile(loss='categorical_crossentropy', optimizer='adam', metrics=['accuracy'])\n",
    "history_adm = model_adm.fit(x_train_encoded, y_train, batch_size=batch_size, epochs=20)\n",
    "_, acc = model_adm.evaluate(x_test_encoded, y_test, batch_size=batch_size, verbose=0)"
   ]
  },
  {
   "cell_type": "code",
   "execution_count": null,
   "metadata": {
    "colab": {
     "base_uri": "https://localhost:8080/",
     "height": 312
    },
    "id": "hPQG6N2CCuUr",
    "outputId": "f575cfa5-d514-4bb1-989d-9b9a8248f63b"
   },
   "outputs": [
    {
     "data": {
      "image/png": "[encoded data removed]",
      "text/plain": [
       "<Figure size 432x288 with 1 Axes>"
      ]
     },
     "metadata": {
      "needs_background": "light",
      "tags": []
     },
     "output_type": "display_data"
    },
    {
     "name": "stdout",
     "output_type": "stream",
     "text": [
      "Accuracy: 91.21000170707703\n"
     ]
    }
   ],
   "source": [
    "plot_accuracy_vs_epochs(history_adm, 20, \"adam\")\n",
    "\n",
    "print(\"Accuracy:\", 100.0*acc)"
   ]
  },
  {
   "cell_type": "markdown",
   "metadata": {
    "id": "hXT-OxUCB3ZV"
   },
   "source": [
    "We see that accuracy of adam model decreases, as we decrease the number of features.\n",
    "  \n",
    "It was previously around 98% with 784 features, and now have reduced to 91% with 120 features.\n"
   ]
  }
 ],
 "metadata": {
  "colab": {
   "collapsed_sections": [],
   "name": "q3",
   "provenance": []
  },
  "kernelspec": {
   "display_name": "Python 3",
   "language": "python",
   "name": "python3"
  },
  "language_info": {
   "codemirror_mode": {
    "name": "ipython",
    "version": 3
   },
   "file_extension": ".py",
   "mimetype": "text/x-python",
   "name": "python",
   "nbconvert_exporter": "python",
   "pygments_lexer": "ipython3",
   "version": "3.8.5"
  }
 },
 "nbformat": 4,
 "nbformat_minor": 1
}
